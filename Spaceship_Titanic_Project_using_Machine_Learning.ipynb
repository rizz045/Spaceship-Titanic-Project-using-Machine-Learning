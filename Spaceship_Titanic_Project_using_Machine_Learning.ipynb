{
  "nbformat": 4,
  "nbformat_minor": 0,
  "metadata": {
    "colab": {
      "provenance": []
    },
    "kernelspec": {
      "name": "python3",
      "display_name": "Python 3"
    },
    "language_info": {
      "name": "python"
    }
  },
  "cells": [
    {
      "cell_type": "markdown",
      "source": [
        "**Column Details**\n",
        "- **PassengerId**: Unique identifier for each passenger, formatted as \"Group_Number_Passenger\".\n",
        "- **HomePlanet**: The planet from which the passenger departed (e.g., Earth, Europa, Mars).\n",
        "- **CryoSleep**: Indicates whether the passenger was in suspended animation during the voyage (True/False).\n",
        "- **Cabin**: Passenger’s cabin number, structured as \"Deck/Number/Side\".\n",
        "- **Destination**: The exoplanet destination of the passenger.\n",
        "- **Age**: The passenger’s age in years.\n",
        "- **VIP**: Whether the passenger had VIP status (True/False).\n",
        "- **RoomService**: Amount spent on in-room service.\n",
        "- **FoodCourt**: Amount spent at the food court.\n",
        "- **ShoppingMall**: Amount spent in the shopping mall.\n",
        "- **Spa**: Amount spent on spa services.\n",
        "- **VRDeck**: Amount spent on the VR deck.\n",
        "- **Name**: Full name of the passenger.\n",
        "- **Transported**: Whether the passenger was transported to another dimension (True/False).\n"
      ],
      "metadata": {
        "id": "CCG5INkCNMLc"
      }
    },
    {
      "cell_type": "code",
      "execution_count": null,
      "metadata": {
        "id": "NNDPLlfz4aUB"
      },
      "outputs": [],
      "source": []
    }
  ]
}